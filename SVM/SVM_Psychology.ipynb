{
 "cells": [
  {
   "cell_type": "markdown",
   "metadata": {},
   "source": [
    "รายงานแสดงผลการทำนายโรคซึมเศร้า(Psycology) ด้วยวิธี Support Vector Machines (SVM)"
   ]
  },
  {
   "cell_type": "markdown",
   "metadata": {},
   "source": [
    "นำเข้า library ที่จำเป็นและนำเข้าข้อมูลที่ใช้ในการทำนายผล"
   ]
  },
  {
   "cell_type": "code",
   "execution_count": 322,
   "metadata": {},
   "outputs": [],
   "source": [
    "import pandas as pd \n",
    "import numpy as np\n",
    "import seaborn as sns\n",
    "import matplotlib.pyplot as plt\n",
    "from sklearn import svm\n",
    "from sklearn.svm import SVC\n",
    "from sklearn.preprocessing import StandardScaler\n",
    "from sklearn.preprocessing import LabelEncoder\n",
    "from sklearn.model_selection import train_test_split\n",
    "from sklearn.model_selection import GridSearchCV\n",
    "from sklearn.model_selection import learning_curve\n",
    "from sklearn.metrics import classification_report, accuracy_score\n",
    "from sklearn.metrics import precision_score\n",
    "from sklearn.metrics import recall_score\n",
    "from sklearn.metrics import f1_score\n",
    "from sklearn.metrics import confusion_matrix, ConfusionMatrixDisplay\n",
    "from sklearn.metrics import roc_curve, auc\n"
   ]
  },
  {
   "cell_type": "code",
   "execution_count": 323,
   "metadata": {},
   "outputs": [
    {
     "data": {
      "text/html": [
       "<div>\n",
       "<style scoped>\n",
       "    .dataframe tbody tr th:only-of-type {\n",
       "        vertical-align: middle;\n",
       "    }\n",
       "\n",
       "    .dataframe tbody tr th {\n",
       "        vertical-align: top;\n",
       "    }\n",
       "\n",
       "    .dataframe thead th {\n",
       "        text-align: right;\n",
       "    }\n",
       "</style>\n",
       "<table border=\"1\" class=\"dataframe\">\n",
       "  <thead>\n",
       "    <tr style=\"text-align: right;\">\n",
       "      <th></th>\n",
       "      <th>เพศ</th>\n",
       "      <th>อายุ</th>\n",
       "      <th>เคยมีแฟนมาแล้ว  (คน)</th>\n",
       "      <th>จำนวนครั้งที่ไปออกกำลังกายต่อสัปดาห์</th>\n",
       "      <th>ระยะเวลาการนอน</th>\n",
       "      <th>นิสิยการกินอาหาร</th>\n",
       "      <th>เคยคิดฆ่าตัวตาย</th>\n",
       "      <th>จำนวนชั่วโมงที่เข้าห้องสมุดในหนึ่งสัปดาห์</th>\n",
       "      <th>ระดับความเครียดด้านการเงิน</th>\n",
       "      <th>เคยกินยานอนหลับ</th>\n",
       "      <th>ภาวะซึมเศร้า</th>\n",
       "    </tr>\n",
       "  </thead>\n",
       "  <tbody>\n",
       "    <tr>\n",
       "      <th>0</th>\n",
       "      <td>Male</td>\n",
       "      <td>28</td>\n",
       "      <td>5</td>\n",
       "      <td>3</td>\n",
       "      <td>5-6 ชั่วโมง</td>\n",
       "      <td>อาหารสุขภาพ</td>\n",
       "      <td>Yes</td>\n",
       "      <td>8</td>\n",
       "      <td>3</td>\n",
       "      <td>Yes</td>\n",
       "      <td>Yes</td>\n",
       "    </tr>\n",
       "    <tr>\n",
       "      <th>1</th>\n",
       "      <td>Male</td>\n",
       "      <td>23</td>\n",
       "      <td>5</td>\n",
       "      <td>2</td>\n",
       "      <td>มากกว่า 8 ชั่วโมง</td>\n",
       "      <td>อาหารทั่วไป</td>\n",
       "      <td>No</td>\n",
       "      <td>10</td>\n",
       "      <td>4</td>\n",
       "      <td>No</td>\n",
       "      <td>Yes</td>\n",
       "    </tr>\n",
       "    <tr>\n",
       "      <th>2</th>\n",
       "      <td>Female</td>\n",
       "      <td>23</td>\n",
       "      <td>1</td>\n",
       "      <td>3</td>\n",
       "      <td>น้อยกว่า 5 ชั่วโมง</td>\n",
       "      <td>อาหารสุขภาพ</td>\n",
       "      <td>Yes</td>\n",
       "      <td>0</td>\n",
       "      <td>3</td>\n",
       "      <td>No</td>\n",
       "      <td>No</td>\n",
       "    </tr>\n",
       "    <tr>\n",
       "      <th>3</th>\n",
       "      <td>Female</td>\n",
       "      <td>20</td>\n",
       "      <td>5</td>\n",
       "      <td>5</td>\n",
       "      <td>มากกว่า 8 ชั่วโมง</td>\n",
       "      <td>Junkfood</td>\n",
       "      <td>Yes</td>\n",
       "      <td>2</td>\n",
       "      <td>5</td>\n",
       "      <td>No</td>\n",
       "      <td>Yes</td>\n",
       "    </tr>\n",
       "    <tr>\n",
       "      <th>4</th>\n",
       "      <td>Male</td>\n",
       "      <td>29</td>\n",
       "      <td>4</td>\n",
       "      <td>3</td>\n",
       "      <td>มากกว่า 8 ชั่วโมง</td>\n",
       "      <td>Junkfood</td>\n",
       "      <td>Yes</td>\n",
       "      <td>1</td>\n",
       "      <td>3</td>\n",
       "      <td>No</td>\n",
       "      <td>Yes</td>\n",
       "    </tr>\n",
       "  </tbody>\n",
       "</table>\n",
       "</div>"
      ],
      "text/plain": [
       "      เพศ  อายุ เคยมีแฟนมาแล้ว  (คน) จำนวนครั้งที่ไปออกกำลังกายต่อสัปดาห์  \\\n",
       "0    Male    28                    5                                    3   \n",
       "1    Male    23                    5                                    2   \n",
       "2  Female    23                    1                                    3   \n",
       "3  Female    20                    5                                    5   \n",
       "4    Male    29                    4                                    3   \n",
       "\n",
       "       ระยะเวลาการนอน นิสิยการกินอาหาร เคยคิดฆ่าตัวตาย  \\\n",
       "0         5-6 ชั่วโมง      อาหารสุขภาพ             Yes   \n",
       "1   มากกว่า 8 ชั่วโมง      อาหารทั่วไป              No   \n",
       "2  น้อยกว่า 5 ชั่วโมง      อาหารสุขภาพ             Yes   \n",
       "3   มากกว่า 8 ชั่วโมง         Junkfood             Yes   \n",
       "4   มากกว่า 8 ชั่วโมง         Junkfood             Yes   \n",
       "\n",
       "  จำนวนชั่วโมงที่เข้าห้องสมุดในหนึ่งสัปดาห์ ระดับความเครียดด้านการเงิน  \\\n",
       "0                                         8                          3   \n",
       "1                                        10                          4   \n",
       "2                                         0                          3   \n",
       "3                                         2                          5   \n",
       "4                                         1                          3   \n",
       "\n",
       "  เคยกินยานอนหลับ ภาวะซึมเศร้า  \n",
       "0             Yes          Yes  \n",
       "1              No          Yes  \n",
       "2              No           No  \n",
       "3              No          Yes  \n",
       "4              No          Yes  "
      ]
     },
     "execution_count": 323,
     "metadata": {},
     "output_type": "execute_result"
    }
   ],
   "source": [
    "patient = pd.read_excel('Psycology.xls')\n",
    "patient.head()"
   ]
  },
  {
   "cell_type": "markdown",
   "metadata": {},
   "source": [
    "แสดงข้อมูลของชุดข้อมูล"
   ]
  },
  {
   "cell_type": "code",
   "execution_count": 324,
   "metadata": {},
   "outputs": [
    {
     "name": "stdout",
     "output_type": "stream",
     "text": [
      "<class 'pandas.core.frame.DataFrame'>\n",
      "RangeIndex: 502 entries, 0 to 501\n",
      "Data columns (total 11 columns):\n",
      " #   Column                                     Non-Null Count  Dtype \n",
      "---  ------                                     --------------  ----- \n",
      " 0   เพศ                                        502 non-null    object\n",
      " 1   อายุ                                       502 non-null    int64 \n",
      " 2   เคยมีแฟนมาแล้ว  (คน)                       502 non-null    object\n",
      " 3   จำนวนครั้งที่ไปออกกำลังกายต่อสัปดาห์       502 non-null    object\n",
      " 4   ระยะเวลาการนอน                             502 non-null    object\n",
      " 5   นิสิยการกินอาหาร                           502 non-null    object\n",
      " 6   เคยคิดฆ่าตัวตาย                            502 non-null    object\n",
      " 7   จำนวนชั่วโมงที่เข้าห้องสมุดในหนึ่งสัปดาห์  502 non-null    object\n",
      " 8   ระดับความเครียดด้านการเงิน                 502 non-null    object\n",
      " 9   เคยกินยานอนหลับ                            502 non-null    object\n",
      " 10  ภาวะซึมเศร้า                               502 non-null    object\n",
      "dtypes: int64(1), object(10)\n",
      "memory usage: 43.3+ KB\n"
     ]
    }
   ],
   "source": [
    "patient.info()"
   ]
  },
  {
   "cell_type": "code",
   "execution_count": 325,
   "metadata": {},
   "outputs": [
    {
     "data": {
      "text/plain": [
       "ภาวะซึมเศร้า\n",
       "Yes    252\n",
       "No     250\n",
       "Name: count, dtype: int64"
      ]
     },
     "execution_count": 325,
     "metadata": {},
     "output_type": "execute_result"
    }
   ],
   "source": [
    "patient['ภาวะซึมเศร้า'].value_counts()"
   ]
  },
  {
   "cell_type": "markdown",
   "metadata": {},
   "source": [
    "จัดการข้อมูลโดยทำการแปลงข้อมูลที่แปลงข้อมูลประเภทข้อความเป็นตัวเลขโดยใช้ LabelEncoder, แทนค่าข้อมูลที่เป็น '?' ด้วย np.nan และลบค่าที่เป็น Nan ออก"
   ]
  },
  {
   "cell_type": "code",
   "execution_count": 326,
   "metadata": {},
   "outputs": [
    {
     "name": "stderr",
     "output_type": "stream",
     "text": [
      "C:\\Users\\ASUS\\AppData\\Local\\Temp\\ipykernel_20632\\2315399768.py:2: FutureWarning: Downcasting behavior in `replace` is deprecated and will be removed in a future version. To retain the old behavior, explicitly call `result.infer_objects(copy=False)`. To opt-in to the future behavior, set `pd.set_option('future.no_silent_downcasting', True)`\n",
      "  patient.replace('?', np.nan, inplace=True)\n"
     ]
    },
    {
     "data": {
      "text/html": [
       "<div>\n",
       "<style scoped>\n",
       "    .dataframe tbody tr th:only-of-type {\n",
       "        vertical-align: middle;\n",
       "    }\n",
       "\n",
       "    .dataframe tbody tr th {\n",
       "        vertical-align: top;\n",
       "    }\n",
       "\n",
       "    .dataframe thead th {\n",
       "        text-align: right;\n",
       "    }\n",
       "</style>\n",
       "<table border=\"1\" class=\"dataframe\">\n",
       "  <thead>\n",
       "    <tr style=\"text-align: right;\">\n",
       "      <th></th>\n",
       "      <th>เพศ</th>\n",
       "      <th>อายุ</th>\n",
       "      <th>เคยมีแฟนมาแล้ว  (คน)</th>\n",
       "      <th>จำนวนครั้งที่ไปออกกำลังกายต่อสัปดาห์</th>\n",
       "      <th>ระยะเวลาการนอน</th>\n",
       "      <th>นิสิยการกินอาหาร</th>\n",
       "      <th>เคยคิดฆ่าตัวตาย</th>\n",
       "      <th>จำนวนชั่วโมงที่เข้าห้องสมุดในหนึ่งสัปดาห์</th>\n",
       "      <th>ระดับความเครียดด้านการเงิน</th>\n",
       "      <th>เคยกินยานอนหลับ</th>\n",
       "      <th>ภาวะซึมเศร้า</th>\n",
       "    </tr>\n",
       "  </thead>\n",
       "  <tbody>\n",
       "    <tr>\n",
       "      <th>0</th>\n",
       "      <td>1</td>\n",
       "      <td>28</td>\n",
       "      <td>5.0</td>\n",
       "      <td>3.0</td>\n",
       "      <td>0</td>\n",
       "      <td>2</td>\n",
       "      <td>1</td>\n",
       "      <td>8.0</td>\n",
       "      <td>3.0</td>\n",
       "      <td>1</td>\n",
       "      <td>1</td>\n",
       "    </tr>\n",
       "    <tr>\n",
       "      <th>1</th>\n",
       "      <td>1</td>\n",
       "      <td>23</td>\n",
       "      <td>5.0</td>\n",
       "      <td>2.0</td>\n",
       "      <td>3</td>\n",
       "      <td>1</td>\n",
       "      <td>0</td>\n",
       "      <td>10.0</td>\n",
       "      <td>4.0</td>\n",
       "      <td>0</td>\n",
       "      <td>1</td>\n",
       "    </tr>\n",
       "    <tr>\n",
       "      <th>2</th>\n",
       "      <td>0</td>\n",
       "      <td>23</td>\n",
       "      <td>1.0</td>\n",
       "      <td>3.0</td>\n",
       "      <td>2</td>\n",
       "      <td>2</td>\n",
       "      <td>1</td>\n",
       "      <td>0.0</td>\n",
       "      <td>3.0</td>\n",
       "      <td>0</td>\n",
       "      <td>0</td>\n",
       "    </tr>\n",
       "    <tr>\n",
       "      <th>3</th>\n",
       "      <td>0</td>\n",
       "      <td>20</td>\n",
       "      <td>5.0</td>\n",
       "      <td>5.0</td>\n",
       "      <td>3</td>\n",
       "      <td>0</td>\n",
       "      <td>1</td>\n",
       "      <td>2.0</td>\n",
       "      <td>5.0</td>\n",
       "      <td>0</td>\n",
       "      <td>1</td>\n",
       "    </tr>\n",
       "    <tr>\n",
       "      <th>4</th>\n",
       "      <td>1</td>\n",
       "      <td>29</td>\n",
       "      <td>4.0</td>\n",
       "      <td>3.0</td>\n",
       "      <td>3</td>\n",
       "      <td>0</td>\n",
       "      <td>1</td>\n",
       "      <td>1.0</td>\n",
       "      <td>3.0</td>\n",
       "      <td>0</td>\n",
       "      <td>1</td>\n",
       "    </tr>\n",
       "  </tbody>\n",
       "</table>\n",
       "</div>"
      ],
      "text/plain": [
       "   เพศ  อายุ  เคยมีแฟนมาแล้ว  (คน)  จำนวนครั้งที่ไปออกกำลังกายต่อสัปดาห์  \\\n",
       "0    1    28                   5.0                                   3.0   \n",
       "1    1    23                   5.0                                   2.0   \n",
       "2    0    23                   1.0                                   3.0   \n",
       "3    0    20                   5.0                                   5.0   \n",
       "4    1    29                   4.0                                   3.0   \n",
       "\n",
       "   ระยะเวลาการนอน  นิสิยการกินอาหาร  เคยคิดฆ่าตัวตาย  \\\n",
       "0               0                 2                1   \n",
       "1               3                 1                0   \n",
       "2               2                 2                1   \n",
       "3               3                 0                1   \n",
       "4               3                 0                1   \n",
       "\n",
       "   จำนวนชั่วโมงที่เข้าห้องสมุดในหนึ่งสัปดาห์  ระดับความเครียดด้านการเงิน  \\\n",
       "0                                        8.0                         3.0   \n",
       "1                                       10.0                         4.0   \n",
       "2                                        0.0                         3.0   \n",
       "3                                        2.0                         5.0   \n",
       "4                                        1.0                         3.0   \n",
       "\n",
       "   เคยกินยานอนหลับ  ภาวะซึมเศร้า  \n",
       "0                1             1  \n",
       "1                0             1  \n",
       "2                0             0  \n",
       "3                0             1  \n",
       "4                0             1  "
      ]
     },
     "execution_count": 326,
     "metadata": {},
     "output_type": "execute_result"
    }
   ],
   "source": [
    "# แปลงค่าที่เป็น '?' เป็น NaN\n",
    "patient.replace('?', np.nan, inplace=True)\n",
    "\n",
    "# ลบแถวที่มีค่า NaN\n",
    "patient.dropna(inplace=True)\n",
    "\n",
    "# สร้าง LabelEncoder\n",
    "encoder = LabelEncoder()\n",
    "\n",
    "# แปลงทุกคอลัมน์ที่เป็น object\n",
    "for col in patient.columns:\n",
    "    if patient[col].dtype == 'object':\n",
    "        patient[col] = encoder.fit_transform(patient[col])\n",
    "\n",
    "patient.head()\n"
   ]
  },
  {
   "cell_type": "code",
   "execution_count": 327,
   "metadata": {},
   "outputs": [
    {
     "name": "stdout",
     "output_type": "stream",
     "text": [
      "Accuracy: 0.9290780141843972\n",
      "              precision    recall  f1-score   support\n",
      "\n",
      "           0       0.92      0.94      0.93        70\n",
      "           1       0.94      0.92      0.93        71\n",
      "\n",
      "    accuracy                           0.93       141\n",
      "   macro avg       0.93      0.93      0.93       141\n",
      "weighted avg       0.93      0.93      0.93       141\n",
      "\n"
     ]
    }
   ],
   "source": [
    "#แยก features และ target\n",
    "col_names = patient.columns.tolist() \n",
    "feature_cols = col_names[:-1] \n",
    "X = patient[feature_cols]  \n",
    "y = patient['ภาวะซึมเศร้า']  \n",
    "\n",
    "# แบ่งข้อมูลออกเป็นชุดฝึก (train) และชุดทดสอบ (test)\n",
    "X_train, X_test, y_train, y_test = train_test_split(X, y, test_size=0.3, random_state=1)\n",
    "\n",
    "# ปรับมาตรฐาน\n",
    "scaler = StandardScaler()\n",
    "X_train = scaler.fit_transform(X_train)\n",
    "X_test = scaler.transform(X_test)\n",
    "\n",
    "# สร้างและฝึกโมเดล SVM\n",
    "clf = svm.SVC(gamma='scale', kernel='rbf', C=1.0, random_state=42)\n",
    "clf.fit(X_train, y_train)\n",
    "\n",
    "# ทำนายผลและประเมินโมเดล\n",
    "y_pred = clf.predict(X_test)\n",
    "\n",
    "# แสดงผลการวิเคราะห์\n",
    "print(\"Accuracy:\", accuracy_score(y_test, y_pred))\n",
    "print(classification_report(y_test, y_pred))"
   ]
  },
  {
   "cell_type": "markdown",
   "metadata": {},
   "source": [
    "ลองใช้ GridSearchCV โดยจะค้นหาค่าที่ดีที่สุดสำหรับพารามิเตอร์โดยการลองค่าที่กำหนดในแต่ละตัวเลือก"
   ]
  },
  {
   "cell_type": "code",
   "execution_count": 328,
   "metadata": {},
   "outputs": [
    {
     "name": "stdout",
     "output_type": "stream",
     "text": [
      "Best Parameters: {'C': 1, 'gamma': 1, 'kernel': 'linear'}\n",
      "Accuracy: 0.9574468085106383\n",
      "              precision    recall  f1-score   support\n",
      "\n",
      "           0       0.94      0.97      0.96        70\n",
      "           1       0.97      0.94      0.96        71\n",
      "\n",
      "    accuracy                           0.96       141\n",
      "   macro avg       0.96      0.96      0.96       141\n",
      "weighted avg       0.96      0.96      0.96       141\n",
      "\n"
     ]
    }
   ],
   "source": [
    "# กำหนดค่าพารามิเตอร์สำหรับ Grid Search\n",
    "param_grid = {\n",
    "    'C': [0.1, 1, 10, 100],          # ค่าพารามิเตอร์ C\n",
    "    'gamma': [1, 0.1, 0.01, 0.001], # ค่าพารามิเตอร์ gamma\n",
    "    'kernel': ['rbf', 'linear']      # ประเภท kernel\n",
    "}\n",
    "\n",
    "# สร้าง GridSearchCV โดยกำหนดจำนวน cross-validation folds\n",
    "grid = GridSearchCV(\n",
    "    estimator=SVC(),          # โมเดล SVM\n",
    "    param_grid=param_grid,    # ค่าพารามิเตอร์ที่ต้องการค้นหา\n",
    "    refit=True,               # เลือกโมเดลที่ดีที่สุด\n",
    "    verbose=0,                # แสดง log ระหว่างการรัน\n",
    "    cv=5                      # ใช้ 5-fold cross-validation\n",
    ")\n",
    "\n",
    "# ฝึกโมเดลโดยใช้ GridSearchCV\n",
    "grid.fit(X_train, y_train)\n",
    "\n",
    "# แสดงพารามิเตอร์ที่ดีที่สุด\n",
    "print(\"Best Parameters:\", grid.best_params_)\n",
    "\n",
    "# ใช้โมเดลที่ดีที่สุดเพื่อทำนาย\n",
    "y_pred = grid.best_estimator_.predict(X_test)\n",
    "\n",
    "# แสดงผลการวิเคราะห์\n",
    "print(\"Accuracy:\", accuracy_score(y_test, y_pred))\n",
    "print(classification_report(y_test, y_pred))"
   ]
  },
  {
   "cell_type": "code",
   "execution_count": 329,
   "metadata": {},
   "outputs": [
    {
     "name": "stdout",
     "output_type": "stream",
     "text": [
      "    param_C  param_gamma param_kernel  mean_test_score  rank_test_score\n",
      "0       0.1        1.000          rbf         0.512261               31\n",
      "1       0.1        1.000       linear         0.960093                7\n",
      "2       0.1        0.100          rbf         0.923310               25\n",
      "3       0.1        0.100       linear         0.960093                7\n",
      "4       0.1        0.010          rbf         0.717995               29\n",
      "5       0.1        0.010       linear         0.960093                7\n",
      "6       0.1        0.001          rbf         0.512261               31\n",
      "7       0.1        0.001       linear         0.960093                7\n",
      "8       1.0        1.000          rbf         0.693380               30\n",
      "9       1.0        1.000       linear         0.969324                1\n",
      "10      1.0        0.100          rbf         0.938695               20\n",
      "11      1.0        0.100       linear         0.969324                1\n",
      "12      1.0        0.010          rbf         0.935618               22\n",
      "13      1.0        0.010       linear         0.969324                1\n",
      "14      1.0        0.001          rbf         0.865082               26\n",
      "15      1.0        0.001       linear         0.969324                1\n",
      "16     10.0        1.000          rbf         0.726993               27\n",
      "17     10.0        1.000       linear         0.960047               12\n",
      "18     10.0        0.100          rbf         0.935478               23\n",
      "19     10.0        0.100       linear         0.960047               12\n",
      "20     10.0        0.010          rbf         0.963124                6\n",
      "21     10.0        0.010       linear         0.960047               12\n",
      "22     10.0        0.001          rbf         0.938648               21\n",
      "23     10.0        0.001       linear         0.960047               12\n",
      "24    100.0        1.000          rbf         0.726993               27\n",
      "25    100.0        1.000       linear         0.957063               16\n",
      "26    100.0        0.100          rbf         0.935478               23\n",
      "27    100.0        0.100       linear         0.957063               16\n",
      "28    100.0        0.010          rbf         0.960093                7\n",
      "29    100.0        0.010       linear         0.957063               16\n",
      "30    100.0        0.001          rbf         0.966200                5\n",
      "31    100.0        0.001       linear         0.957063               16\n"
     ]
    }
   ],
   "source": [
    "# แสดงผลลัพธ์ทั้งหมดของการค้นหา\n",
    "results = pd.DataFrame(grid.cv_results_)\n",
    "print(results[['param_C', 'param_gamma', 'param_kernel', 'mean_test_score', 'rank_test_score']])\n"
   ]
  },
  {
   "cell_type": "markdown",
   "metadata": {},
   "source": [
    "แสดง Learning Curve"
   ]
  },
  {
   "cell_type": "code",
   "execution_count": 330,
   "metadata": {},
   "outputs": [
    {
     "data": {
      "image/png": "[encoded data removed]",
      "text/plain": [
       "<Figure size 800x600 with 1 Axes>"
      ]
     },
     "metadata": {},
     "output_type": "display_data"
    }
   ],
   "source": [
    "# คำนวณ Learning Curve\n",
    "train_sizes, train_scores, test_scores = learning_curve(grid.best_estimator_, X_train, y_train, cv=5, scoring='accuracy', n_jobs=-1)\n",
    "\n",
    "# คำนวณค่าเฉลี่ยและส่วนเบี่ยงเบน\n",
    "train_mean = train_scores.mean(axis=1)\n",
    "test_mean = test_scores.mean(axis=1)\n",
    "\n",
    "# วาดกราฟ Learning Curve\n",
    "plt.figure(figsize=(8, 6))\n",
    "plt.plot(train_sizes, train_mean, label=\"Training Score\", color=\"blue\")\n",
    "plt.plot(train_sizes, test_mean, label=\"Validation Score\", color=\"orange\")\n",
    "plt.title(\"Learning Curve\")\n",
    "plt.xlabel(\"Training Set Size\")\n",
    "plt.ylabel(\"Accuracy\")\n",
    "plt.legend()\n",
    "plt.show()\n"
   ]
  },
  {
   "cell_type": "markdown",
   "metadata": {},
   "source": [
    "แสดง ROC Curve และ AUC"
   ]
  },
  {
   "cell_type": "code",
   "execution_count": 331,
   "metadata": {},
   "outputs": [
    {
     "data": {
      "image/png": "[encoded data removed]",
      "text/plain": [
       "<Figure size 800x600 with 1 Axes>"
      ]
     },
     "metadata": {},
     "output_type": "display_data"
    }
   ],
   "source": [
    "# ทำนายความน่าจะเป็น\n",
    "y_prob = grid.best_estimator_.decision_function(X_test)\n",
    "\n",
    "# คำนวณ ROC Curve\n",
    "fpr, tpr, _ = roc_curve(y_test, y_prob)\n",
    "\n",
    "# คำนวณ AUC\n",
    "roc_auc = auc(fpr, tpr)\n",
    "\n",
    "# วาดกราฟ ROC Curve\n",
    "plt.figure(figsize=(8, 6))\n",
    "plt.plot(fpr, tpr, color='blue', label=f\"ROC Curve (AUC = {roc_auc:.2f})\")\n",
    "plt.plot([0, 1], [0, 1], color='red', linestyle='--', label=\"Random Guess\")\n",
    "plt.title(\"ROC Curve\")\n",
    "plt.xlabel(\"False Positive Rate (FPR)\")\n",
    "plt.ylabel(\"True Positive Rate (TPR)\")\n",
    "plt.legend(loc=\"lower right\")\n",
    "plt.show()\n"
   ]
  },
  {
   "cell_type": "markdown",
   "metadata": {},
   "source": [
    "แสดง Confusion Matrix โดยจะแสดงจำนวนของตัวอย่างที่โมเดลทำนายถูกและผิดในแต่ละคลาส"
   ]
  },
  {
   "cell_type": "code",
   "execution_count": 332,
   "metadata": {},
   "outputs": [
    {
     "data": {
      "image/png": "[encoded data removed]",
      "text/plain": [
       "<Figure size 640x480 with 2 Axes>"
      ]
     },
     "metadata": {},
     "output_type": "display_data"
    },
    {
     "name": "stdout",
     "output_type": "stream",
     "text": [
      "Accuracy: 0.96\n",
      "Precision: 0.97\n",
      "Recall: 0.94\n",
      "F1 Score: 0.96\n"
     ]
    }
   ],
   "source": [
    "# ทำนายผลลัพธ์ของชุดข้อมูลทดสอบ\n",
    "y_pred = grid.best_estimator_.predict(X_test)\n",
    "\n",
    "# สร้าง Confusion Matrix\n",
    "cm = confusion_matrix(y_test, y_pred)\n",
    "\n",
    "# คำนวณตัวชี้วัด\n",
    "accuracy = accuracy_score(y_test, y_pred)\n",
    "precision = precision_score(y_test, y_pred)\n",
    "recall = recall_score(y_test, y_pred)\n",
    "f1 = f1_score(y_test, y_pred)\n",
    "\n",
    "# แสดงผล Confusion Matrix\n",
    "disp = ConfusionMatrixDisplay(confusion_matrix=cm, display_labels=grid.best_estimator_.classes_)\n",
    "disp.plot() \n",
    "\n",
    "# เพิ่มข้อมูลตัวชี้วัดในชื่อกราฟ\n",
    "plt.title(f'Confusion Matrix\\nAccuracy: {accuracy:.2f} | Precision: {precision:.2f} | Recall: {recall:.2f} | F1 Score: {f1:.2f}', size=12)\n",
    "plt.show()\n",
    "\n",
    "print(f\"Accuracy: {accuracy:.2f}\")\n",
    "print(f\"Precision: {precision:.2f}\")\n",
    "print(f\"Recall: {recall:.2f}\")\n",
    "print(f\"F1 Score: {f1:.2f}\")\n"
   ]
  }
 ],
 "metadata": {
  "kernelspec": {
   "display_name": "AI_CS",
   "language": "python",
   "name": "ai_cs"
  },
  "language_info": {
   "codemirror_mode": {
    "name": "ipython",
    "version": 3
   },
   "file_extension": ".py",
   "mimetype": "text/x-python",
   "name": "python",
   "nbconvert_exporter": "python",
   "pygments_lexer": "ipython3",
   "version": "3.11.4"
  }
 },
 "nbformat": 4,
 "nbformat_minor": 2
}
