{
 "cells": [
  {
   "cell_type": "markdown",
   "metadata": {},
   "source": [
    "รายงานแสดงผลการทำนายโรคซึมเศร้า(Psycology) ด้วยวิธี KNN-classifier"
   ]
  },
  {
   "cell_type": "markdown",
   "metadata": {},
   "source": [
    "นำเข้า library ที่จำเป็นและนำเข้าข้อมูลที่ใช้ในการทำนายผล"
   ]
  },
  {
   "cell_type": "code",
   "execution_count": 36,
   "metadata": {},
   "outputs": [],
   "source": [
    "import pandas as pd \n",
    "import numpy as np\n",
    "import seaborn as sns\n",
    "import matplotlib.pyplot as plt\n",
    "from sklearn.preprocessing import LabelEncoder\n",
    "from sklearn.preprocessing import StandardScaler\n",
    "from sklearn.model_selection import train_test_split\n",
    "from sklearn.model_selection import cross_val_score\n",
    "from sklearn.model_selection import GridSearchCV\n",
    "from sklearn.neighbors import KNeighborsClassifier\n",
    "from sklearn.metrics import precision_score\n",
    "from sklearn.metrics import classification_report\n",
    "from sklearn.metrics import accuracy_score \n",
    "from sklearn.metrics import recall_score\n",
    "from sklearn.metrics import f1_score\n",
    "from sklearn.metrics import confusion_matrix\n"
   ]
  },
  {
   "cell_type": "code",
   "execution_count": 37,
   "metadata": {},
   "outputs": [
    {
     "data": {
      "text/html": [
       "<div>\n",
       "<style scoped>\n",
       "    .dataframe tbody tr th:only-of-type {\n",
       "        vertical-align: middle;\n",
       "    }\n",
       "\n",
       "    .dataframe tbody tr th {\n",
       "        vertical-align: top;\n",
       "    }\n",
       "\n",
       "    .dataframe thead th {\n",
       "        text-align: right;\n",
       "    }\n",
       "</style>\n",
       "<table border=\"1\" class=\"dataframe\">\n",
       "  <thead>\n",
       "    <tr style=\"text-align: right;\">\n",
       "      <th></th>\n",
       "      <th>เพศ</th>\n",
       "      <th>อายุ</th>\n",
       "      <th>เคยมีแฟนมาแล้ว  (คน)</th>\n",
       "      <th>จำนวนครั้งที่ไปออกกำลังกายต่อสัปดาห์</th>\n",
       "      <th>ระยะเวลาการนอน</th>\n",
       "      <th>นิสิยการกินอาหาร</th>\n",
       "      <th>เคยคิดฆ่าตัวตาย</th>\n",
       "      <th>จำนวนชั่วโมงที่เข้าห้องสมุดในหนึ่งสัปดาห์</th>\n",
       "      <th>ระดับความเครียดด้านการเงิน</th>\n",
       "      <th>เคยกินยานอนหลับ</th>\n",
       "      <th>ภาวะซึมเศร้า</th>\n",
       "    </tr>\n",
       "  </thead>\n",
       "  <tbody>\n",
       "    <tr>\n",
       "      <th>0</th>\n",
       "      <td>Male</td>\n",
       "      <td>28</td>\n",
       "      <td>5</td>\n",
       "      <td>3</td>\n",
       "      <td>5-6 ชั่วโมง</td>\n",
       "      <td>อาหารสุขภาพ</td>\n",
       "      <td>Yes</td>\n",
       "      <td>8</td>\n",
       "      <td>3</td>\n",
       "      <td>Yes</td>\n",
       "      <td>Yes</td>\n",
       "    </tr>\n",
       "    <tr>\n",
       "      <th>1</th>\n",
       "      <td>Male</td>\n",
       "      <td>23</td>\n",
       "      <td>5</td>\n",
       "      <td>2</td>\n",
       "      <td>มากกว่า 8 ชั่วโมง</td>\n",
       "      <td>อาหารทั่วไป</td>\n",
       "      <td>No</td>\n",
       "      <td>10</td>\n",
       "      <td>4</td>\n",
       "      <td>No</td>\n",
       "      <td>Yes</td>\n",
       "    </tr>\n",
       "    <tr>\n",
       "      <th>2</th>\n",
       "      <td>Female</td>\n",
       "      <td>23</td>\n",
       "      <td>1</td>\n",
       "      <td>3</td>\n",
       "      <td>น้อยกว่า 5 ชั่วโมง</td>\n",
       "      <td>อาหารสุขภาพ</td>\n",
       "      <td>Yes</td>\n",
       "      <td>0</td>\n",
       "      <td>3</td>\n",
       "      <td>No</td>\n",
       "      <td>No</td>\n",
       "    </tr>\n",
       "    <tr>\n",
       "      <th>3</th>\n",
       "      <td>Female</td>\n",
       "      <td>20</td>\n",
       "      <td>5</td>\n",
       "      <td>5</td>\n",
       "      <td>มากกว่า 8 ชั่วโมง</td>\n",
       "      <td>Junkfood</td>\n",
       "      <td>Yes</td>\n",
       "      <td>2</td>\n",
       "      <td>5</td>\n",
       "      <td>No</td>\n",
       "      <td>Yes</td>\n",
       "    </tr>\n",
       "    <tr>\n",
       "      <th>4</th>\n",
       "      <td>Male</td>\n",
       "      <td>29</td>\n",
       "      <td>4</td>\n",
       "      <td>3</td>\n",
       "      <td>มากกว่า 8 ชั่วโมง</td>\n",
       "      <td>Junkfood</td>\n",
       "      <td>Yes</td>\n",
       "      <td>1</td>\n",
       "      <td>3</td>\n",
       "      <td>No</td>\n",
       "      <td>Yes</td>\n",
       "    </tr>\n",
       "  </tbody>\n",
       "</table>\n",
       "</div>"
      ],
      "text/plain": [
       "      เพศ  อายุ เคยมีแฟนมาแล้ว  (คน) จำนวนครั้งที่ไปออกกำลังกายต่อสัปดาห์  \\\n",
       "0    Male    28                    5                                    3   \n",
       "1    Male    23                    5                                    2   \n",
       "2  Female    23                    1                                    3   \n",
       "3  Female    20                    5                                    5   \n",
       "4    Male    29                    4                                    3   \n",
       "\n",
       "       ระยะเวลาการนอน นิสิยการกินอาหาร เคยคิดฆ่าตัวตาย  \\\n",
       "0         5-6 ชั่วโมง      อาหารสุขภาพ             Yes   \n",
       "1   มากกว่า 8 ชั่วโมง      อาหารทั่วไป              No   \n",
       "2  น้อยกว่า 5 ชั่วโมง      อาหารสุขภาพ             Yes   \n",
       "3   มากกว่า 8 ชั่วโมง         Junkfood             Yes   \n",
       "4   มากกว่า 8 ชั่วโมง         Junkfood             Yes   \n",
       "\n",
       "  จำนวนชั่วโมงที่เข้าห้องสมุดในหนึ่งสัปดาห์ ระดับความเครียดด้านการเงิน  \\\n",
       "0                                         8                          3   \n",
       "1                                        10                          4   \n",
       "2                                         0                          3   \n",
       "3                                         2                          5   \n",
       "4                                         1                          3   \n",
       "\n",
       "  เคยกินยานอนหลับ ภาวะซึมเศร้า  \n",
       "0             Yes          Yes  \n",
       "1              No          Yes  \n",
       "2              No           No  \n",
       "3              No          Yes  \n",
       "4              No          Yes  "
      ]
     },
     "execution_count": 37,
     "metadata": {},
     "output_type": "execute_result"
    }
   ],
   "source": [
    "patient = pd.read_excel('Psycology.xls')\n",
    "patient.head()\n"
   ]
  },
  {
   "cell_type": "markdown",
   "metadata": {},
   "source": [
    "แสดงข้อมูลของชุดข้อมูล"
   ]
  },
  {
   "cell_type": "code",
   "execution_count": 38,
   "metadata": {},
   "outputs": [
    {
     "name": "stdout",
     "output_type": "stream",
     "text": [
      "<class 'pandas.core.frame.DataFrame'>\n",
      "RangeIndex: 502 entries, 0 to 501\n",
      "Data columns (total 11 columns):\n",
      " #   Column                                     Non-Null Count  Dtype \n",
      "---  ------                                     --------------  ----- \n",
      " 0   เพศ                                        502 non-null    object\n",
      " 1   อายุ                                       502 non-null    int64 \n",
      " 2   เคยมีแฟนมาแล้ว  (คน)                       502 non-null    object\n",
      " 3   จำนวนครั้งที่ไปออกกำลังกายต่อสัปดาห์       502 non-null    object\n",
      " 4   ระยะเวลาการนอน                             502 non-null    object\n",
      " 5   นิสิยการกินอาหาร                           502 non-null    object\n",
      " 6   เคยคิดฆ่าตัวตาย                            502 non-null    object\n",
      " 7   จำนวนชั่วโมงที่เข้าห้องสมุดในหนึ่งสัปดาห์  502 non-null    object\n",
      " 8   ระดับความเครียดด้านการเงิน                 502 non-null    object\n",
      " 9   เคยกินยานอนหลับ                            502 non-null    object\n",
      " 10  ภาวะซึมเศร้า                               502 non-null    object\n",
      "dtypes: int64(1), object(10)\n",
      "memory usage: 43.3+ KB\n"
     ]
    }
   ],
   "source": [
    "patient.info()"
   ]
  },
  {
   "cell_type": "code",
   "execution_count": 39,
   "metadata": {},
   "outputs": [
    {
     "data": {
      "text/plain": [
       "ภาวะซึมเศร้า\n",
       "Yes    252\n",
       "No     250\n",
       "Name: count, dtype: int64"
      ]
     },
     "execution_count": 39,
     "metadata": {},
     "output_type": "execute_result"
    }
   ],
   "source": [
    "patient['ภาวะซึมเศร้า'].value_counts()"
   ]
  },
  {
   "cell_type": "markdown",
   "metadata": {},
   "source": [
    "จัดการข้อมูลโดยทำการแปลงข้อมูลที่แปลงข้อมูลประเภทข้อความเป็นตัวเลขโดยใช้ LabelEncoder, แทนค่าข้อมูลที่เป็น '?' ด้วย np.nan และลบค่าที่เป็น Nan ออก"
   ]
  },
  {
   "cell_type": "code",
   "execution_count": 40,
   "metadata": {},
   "outputs": [
    {
     "name": "stderr",
     "output_type": "stream",
     "text": [
      "C:\\Users\\ASUS\\AppData\\Local\\Temp\\ipykernel_23868\\4080274926.py:2: FutureWarning: Downcasting behavior in `replace` is deprecated and will be removed in a future version. To retain the old behavior, explicitly call `result.infer_objects(copy=False)`. To opt-in to the future behavior, set `pd.set_option('future.no_silent_downcasting', True)`\n",
      "  patient.replace('?', np.nan, inplace=True)\n"
     ]
    }
   ],
   "source": [
    "# แปลงค่าที่เป็น '?' เป็น NaN\n",
    "patient.replace('?', np.nan, inplace=True)\n",
    "\n",
    "# ลบแถวที่มีค่า NaN\n",
    "patient.dropna(inplace=True)\n",
    "\n",
    "# สร้าง LabelEncoder\n",
    "encoder = LabelEncoder()\n",
    "\n",
    "# แปลงทุกคอลัมน์ที่เป็น object\n",
    "for col in patient.columns:\n",
    "    if patient[col].dtype == 'object':\n",
    "        patient[col] = encoder.fit_transform(patient[col])\n"
   ]
  },
  {
   "cell_type": "code",
   "execution_count": 41,
   "metadata": {},
   "outputs": [
    {
     "data": {
      "text/html": [
       "<div>\n",
       "<style scoped>\n",
       "    .dataframe tbody tr th:only-of-type {\n",
       "        vertical-align: middle;\n",
       "    }\n",
       "\n",
       "    .dataframe tbody tr th {\n",
       "        vertical-align: top;\n",
       "    }\n",
       "\n",
       "    .dataframe thead th {\n",
       "        text-align: right;\n",
       "    }\n",
       "</style>\n",
       "<table border=\"1\" class=\"dataframe\">\n",
       "  <thead>\n",
       "    <tr style=\"text-align: right;\">\n",
       "      <th></th>\n",
       "      <th>เพศ</th>\n",
       "      <th>อายุ</th>\n",
       "      <th>เคยมีแฟนมาแล้ว  (คน)</th>\n",
       "      <th>จำนวนครั้งที่ไปออกกำลังกายต่อสัปดาห์</th>\n",
       "      <th>ระยะเวลาการนอน</th>\n",
       "      <th>นิสิยการกินอาหาร</th>\n",
       "      <th>เคยคิดฆ่าตัวตาย</th>\n",
       "      <th>จำนวนชั่วโมงที่เข้าห้องสมุดในหนึ่งสัปดาห์</th>\n",
       "      <th>ระดับความเครียดด้านการเงิน</th>\n",
       "      <th>เคยกินยานอนหลับ</th>\n",
       "      <th>ภาวะซึมเศร้า</th>\n",
       "    </tr>\n",
       "  </thead>\n",
       "  <tbody>\n",
       "    <tr>\n",
       "      <th>0</th>\n",
       "      <td>1</td>\n",
       "      <td>28</td>\n",
       "      <td>5.0</td>\n",
       "      <td>3.0</td>\n",
       "      <td>0</td>\n",
       "      <td>2</td>\n",
       "      <td>1</td>\n",
       "      <td>8.0</td>\n",
       "      <td>3.0</td>\n",
       "      <td>1</td>\n",
       "      <td>1</td>\n",
       "    </tr>\n",
       "    <tr>\n",
       "      <th>1</th>\n",
       "      <td>1</td>\n",
       "      <td>23</td>\n",
       "      <td>5.0</td>\n",
       "      <td>2.0</td>\n",
       "      <td>3</td>\n",
       "      <td>1</td>\n",
       "      <td>0</td>\n",
       "      <td>10.0</td>\n",
       "      <td>4.0</td>\n",
       "      <td>0</td>\n",
       "      <td>1</td>\n",
       "    </tr>\n",
       "    <tr>\n",
       "      <th>2</th>\n",
       "      <td>0</td>\n",
       "      <td>23</td>\n",
       "      <td>1.0</td>\n",
       "      <td>3.0</td>\n",
       "      <td>2</td>\n",
       "      <td>2</td>\n",
       "      <td>1</td>\n",
       "      <td>0.0</td>\n",
       "      <td>3.0</td>\n",
       "      <td>0</td>\n",
       "      <td>0</td>\n",
       "    </tr>\n",
       "    <tr>\n",
       "      <th>3</th>\n",
       "      <td>0</td>\n",
       "      <td>20</td>\n",
       "      <td>5.0</td>\n",
       "      <td>5.0</td>\n",
       "      <td>3</td>\n",
       "      <td>0</td>\n",
       "      <td>1</td>\n",
       "      <td>2.0</td>\n",
       "      <td>5.0</td>\n",
       "      <td>0</td>\n",
       "      <td>1</td>\n",
       "    </tr>\n",
       "    <tr>\n",
       "      <th>4</th>\n",
       "      <td>1</td>\n",
       "      <td>29</td>\n",
       "      <td>4.0</td>\n",
       "      <td>3.0</td>\n",
       "      <td>3</td>\n",
       "      <td>0</td>\n",
       "      <td>1</td>\n",
       "      <td>1.0</td>\n",
       "      <td>3.0</td>\n",
       "      <td>0</td>\n",
       "      <td>1</td>\n",
       "    </tr>\n",
       "  </tbody>\n",
       "</table>\n",
       "</div>"
      ],
      "text/plain": [
       "   เพศ  อายุ  เคยมีแฟนมาแล้ว  (คน)  จำนวนครั้งที่ไปออกกำลังกายต่อสัปดาห์  \\\n",
       "0    1    28                   5.0                                   3.0   \n",
       "1    1    23                   5.0                                   2.0   \n",
       "2    0    23                   1.0                                   3.0   \n",
       "3    0    20                   5.0                                   5.0   \n",
       "4    1    29                   4.0                                   3.0   \n",
       "\n",
       "   ระยะเวลาการนอน  นิสิยการกินอาหาร  เคยคิดฆ่าตัวตาย  \\\n",
       "0               0                 2                1   \n",
       "1               3                 1                0   \n",
       "2               2                 2                1   \n",
       "3               3                 0                1   \n",
       "4               3                 0                1   \n",
       "\n",
       "   จำนวนชั่วโมงที่เข้าห้องสมุดในหนึ่งสัปดาห์  ระดับความเครียดด้านการเงิน  \\\n",
       "0                                        8.0                         3.0   \n",
       "1                                       10.0                         4.0   \n",
       "2                                        0.0                         3.0   \n",
       "3                                        2.0                         5.0   \n",
       "4                                        1.0                         3.0   \n",
       "\n",
       "   เคยกินยานอนหลับ  ภาวะซึมเศร้า  \n",
       "0                1             1  \n",
       "1                0             1  \n",
       "2                0             0  \n",
       "3                0             1  \n",
       "4                0             1  "
      ]
     },
     "execution_count": 41,
     "metadata": {},
     "output_type": "execute_result"
    }
   ],
   "source": [
    "patient.head()"
   ]
  },
  {
   "cell_type": "markdown",
   "metadata": {},
   "source": [
    "แบ่งชุดข้อมูลเและทำการทำนายผล"
   ]
  },
  {
   "cell_type": "code",
   "execution_count": 42,
   "metadata": {},
   "outputs": [
    {
     "name": "stdout",
     "output_type": "stream",
     "text": [
      "Accuracy: 0.8794326241134752\n",
      "Classification Report:\n",
      "               precision    recall  f1-score   support\n",
      "\n",
      "           0       0.87      0.89      0.88        70\n",
      "           1       0.89      0.87      0.88        71\n",
      "\n",
      "    accuracy                           0.88       141\n",
      "   macro avg       0.88      0.88      0.88       141\n",
      "weighted avg       0.88      0.88      0.88       141\n",
      "\n"
     ]
    }
   ],
   "source": [
    "#แยก features และ target\n",
    "col_names = patient.columns.tolist() \n",
    "feature_cols = col_names[:-1] \n",
    "X = patient[feature_cols]  \n",
    "y = patient['ภาวะซึมเศร้า']  \n",
    "\n",
    "# แบ่งข้อมูลออกเป็นชุดฝึก (train) และชุดทดสอบ (test)\n",
    "X_train, X_test, y_train, y_test = train_test_split(X, y, test_size=0.3, random_state=1)\n",
    "\n",
    "\n",
    "# ปรับมาตรฐาน\n",
    "scaler = StandardScaler()\n",
    "X_train = scaler.fit_transform(X_train)\n",
    "X_test = scaler.transform(X_test)\n",
    "\n",
    "# สร้างโมเดล KNN\n",
    "knn = KNeighborsClassifier(n_neighbors=5)\n",
    "\n",
    "# ฝึกโมเดล\n",
    "knn.fit(X_train, y_train)\n",
    "\n",
    "# ทำนายผล\n",
    "y_pred = knn.predict(X_test)\n",
    "\n",
    "# ประเมินผล\n",
    "print(\"Accuracy:\", accuracy_score(y_test, y_pred))\n",
    "print(\"Classification Report:\\n\", classification_report(y_test, y_pred))"
   ]
  },
  {
   "cell_type": "markdown",
   "metadata": {},
   "source": [
    "การหาค่าที่เหมาะ ด้วย GridSearchCV"
   ]
  },
  {
   "cell_type": "code",
   "execution_count": 43,
   "metadata": {},
   "outputs": [
    {
     "name": "stdout",
     "output_type": "stream",
     "text": [
      "Fitting 5 folds for each of 80 candidates, totalling 400 fits\n",
      "Best Parameters: {'metric': 'euclidean', 'n_neighbors': 20, 'weights': 'distance'}\n",
      "Best Cross-Validation Accuracy: 0.8956177156177156\n",
      "Test Accuracy: 0.8723404255319149\n",
      "Classification Report:\n",
      "               precision    recall  f1-score   support\n",
      "\n",
      "           0       0.92      0.81      0.86        70\n",
      "           1       0.84      0.93      0.88        71\n",
      "\n",
      "    accuracy                           0.87       141\n",
      "   macro avg       0.88      0.87      0.87       141\n",
      "weighted avg       0.88      0.87      0.87       141\n",
      "\n"
     ]
    }
   ],
   "source": [
    "#กำหนดพารามิเตอร์ที่ต้องการค้นหา\n",
    "param_grid = {\n",
    "    'n_neighbors': list(range(1, 21)),  # จำนวนเพื่อนบ้าน K ที่ต้องการทดสอบ\n",
    "    'weights': ['uniform', 'distance'],  # น้ำหนักของเพื่อนบ้าน\n",
    "    'metric': ['euclidean', 'manhattan']  # วิธีวัดระยะทาง\n",
    "}\n",
    "\n",
    "#สร้างโมเดล KNN และ GridSearchCV\n",
    "knn = KNeighborsClassifier()\n",
    "grid_search = GridSearchCV(knn, param_grid, cv=5, scoring='accuracy', verbose=1, n_jobs=-1)\n",
    "\n",
    "#ฝึก GridSearchCV กับชุดข้อมูล\n",
    "grid_search.fit(X_train, y_train)\n",
    "\n",
    "#แสดงผลลัพธ์ที่ดีที่สุด\n",
    "print(\"Best Parameters:\", grid_search.best_params_)\n",
    "print(\"Best Cross-Validation Accuracy:\", grid_search.best_score_)\n",
    "\n",
    "#ใช้โมเดลที่ดีที่สุดทำนายผลบนชุดทดสอบ\n",
    "best_model = grid_search.best_estimator_\n",
    "y_pred = best_model.predict(X_test)\n",
    "\n",
    "# ประเมินผล\n",
    "print(\"Test Accuracy:\", accuracy_score(y_test, y_pred))\n",
    "print(\"Classification Report:\\n\", classification_report(y_test, y_pred))\n"
   ]
  },
  {
   "cell_type": "markdown",
   "metadata": {},
   "source": [
    "กราฟแสดงความสัมพันธ์ระหว่างค่า K กับค่าเฉลี่ยของ accuracy scores "
   ]
  },
  {
   "cell_type": "code",
   "execution_count": 44,
   "metadata": {},
   "outputs": [
    {
     "data": {
      "image/png": "[encoded data removed]",
      "text/plain": [
       "<Figure size 1000x600 with 1 Axes>"
      ]
     },
     "metadata": {},
     "output_type": "display_data"
    }
   ],
   "source": [
    "# กำหนดช่วงค่า K\n",
    "k_values = range(1, 21)\n",
    "mean_accuracy = []\n",
    "\n",
    "# คำนวณค่า Accuracy Scores สำหรับแต่ละค่า K\n",
    "for k in k_values:\n",
    "    knn = KNeighborsClassifier(n_neighbors=k)\n",
    "    scores = cross_val_score(knn, X_train, y_train, cv=5, scoring='accuracy')  # 5-fold cross-validation\n",
    "    mean_accuracy.append(scores.mean())  # เก็บค่าความแม่นยำเฉลี่ย\n",
    "\n",
    "# สร้างกราฟ\n",
    "plt.figure(figsize=(10, 6))\n",
    "plt.plot(k_values, mean_accuracy, marker='o', linestyle='-', color='b', label='Mean Accuracy')\n",
    "\n",
    "plt.title('Relationship between K and Cross-Validated Accuracy', fontsize=14)\n",
    "plt.xlabel('Number of Neighbors (K)', fontsize=12)\n",
    "plt.ylabel('Mean Accuracy', fontsize=12)\n",
    "\n",
    "plt.xticks(k_values)\n",
    "plt.grid(True)\n",
    "plt.legend()\n",
    "plt.show()"
   ]
  },
  {
   "cell_type": "markdown",
   "metadata": {},
   "source": [
    "แสดงผลการทำนายด้วย Confusion Matrix"
   ]
  },
  {
   "cell_type": "code",
   "execution_count": 45,
   "metadata": {},
   "outputs": [
    {
     "data": {
      "image/png": "[encoded data removed]",
      "text/plain": [
       "<Figure size 800x600 with 2 Axes>"
      ]
     },
     "metadata": {},
     "output_type": "display_data"
    },
    {
     "name": "stdout",
     "output_type": "stream",
     "text": [
      "Accuracy: 0.87\n",
      "Precision: 0.84\n",
      "Recall: 0.93\n",
      "F1 Score: 0.88\n"
     ]
    }
   ],
   "source": [
    "# สร้าง Confusion Matrix\n",
    "cm = confusion_matrix(y_test, y_pred)\n",
    "\n",
    "# คำนวณตัวชี้วัด\n",
    "accuracy = accuracy_score(y_test, y_pred)\n",
    "precision = precision_score(y_test, y_pred)\n",
    "recall = recall_score(y_test, y_pred)\n",
    "f1 = f1_score(y_test, y_pred)\n",
    "\n",
    "# แสดง Confusion Matrix\n",
    "plt.figure(figsize=(8, 6))\n",
    "sns.heatmap(cm, annot=True, fmt=\".0f\")\n",
    "plt.xlabel('Predicted')\n",
    "plt.ylabel('Actual')\n",
    "\n",
    "\n",
    "# เพิ่มข้อมูลตัวชี้วัดในชื่อกราฟ\n",
    "plt.title(f'Confusion Matrix\\nAccuracy: {accuracy:.2f} | Precision: {precision:.2f} | Recall: {recall:.2f} | F1 Score: {f1:.2f}', size=12)\n",
    "plt.show()\n",
    "\n",
    "\n",
    "print(f\"Accuracy: {accuracy:.2f}\")\n",
    "print(f\"Precision: {precision:.2f}\")\n",
    "print(f\"Recall: {recall:.2f}\")\n",
    "print(f\"F1 Score: {f1:.2f}\")\n",
    "\n",
    "\n",
    "\n"
   ]
  }
 ],
 "metadata": {
  "kernelspec": {
   "display_name": "AI_CS",
   "language": "python",
   "name": "ai_cs"
  },
  "language_info": {
   "codemirror_mode": {
    "name": "ipython",
    "version": 3
   },
   "file_extension": ".py",
   "mimetype": "text/x-python",
   "name": "python",
   "nbconvert_exporter": "python",
   "pygments_lexer": "ipython3",
   "version": "3.11.4"
  }
 },
 "nbformat": 4,
 "nbformat_minor": 2
}
